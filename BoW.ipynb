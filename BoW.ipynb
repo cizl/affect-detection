{
 "cells": [
  {
   "cell_type": "markdown",
   "metadata": {},
   "source": [
    "# Basic BoW model "
   ]
  },
  {
   "cell_type": "code",
   "execution_count": 1,
   "metadata": {},
   "outputs": [],
   "source": [
    "from collections import defaultdict\n",
    "from nltk.stem import PorterStemmer, SnowballStemmer\n",
    "from nltk.corpus import stopwords\n",
    "from nltk.tokenize import word_tokenize\n",
    "import re"
   ]
  },
  {
   "cell_type": "code",
   "execution_count": 2,
   "metadata": {},
   "outputs": [],
   "source": [
    "def cleanup_line(line):\n",
    "    # removes punctuation\n",
    "    line = re.sub(r'[.,\"!#/]+', ' ', line, flags=re.MULTILINE)\n",
    "    # removs \\\\n\n",
    "    line = re.sub(r'\\\\n', ' ', line, flags=re.MULTILINE)\n",
    "    # removes retweets (e.g. @FER)\n",
    "    line = re.sub(r'@\\w+', '', line, flags=re.MULTILINE)\n",
    "\n",
    "    return line"
   ]
  },
  {
   "cell_type": "code",
   "execution_count": 3,
   "metadata": {},
   "outputs": [],
   "source": [
    "def vectorize_X(tweet, vocab):\n",
    "    # obsolete\n",
    "    # tweet = re.sub(r'[.,\"!#]+', ' ', tweet, flags=re.MULTILINE)\n",
    "    #tweet = re.sub(r'@\\w+', ' ', tweet, flags=re.MULTILINE)\n",
    "\n",
    "    # splits tags into 2, e.g. #happy -> #, happy\n",
    "    # TODO: tags could be useful for classification\n",
    "    tweet_toks = word_tokenize(tweet)\n",
    "    X_ = []\n",
    "    for w in vocab:\n",
    "        X_.append(1 if w in tweet_toks else 0)\n",
    "\n",
    "    return X_"
   ]
  },
  {
   "cell_type": "code",
   "execution_count": 4,
   "metadata": {},
   "outputs": [],
   "source": [
    "def create_bow(input_file):\n",
    "    vocab = set()\n",
    "    X, y = [], []\n",
    "    stop_words = set(stopwords.words('english'))\n",
    "    with open(f'data/{input_file}') as fin:\n",
    "        stemmer = PorterStemmer()\n",
    "        #stemmer = SnowballStemmer()\n",
    "\n",
    "        bag = defaultdict(int)\n",
    "        cols = fin.readline().split()\n",
    "        for line in fin:\n",
    "            fields = cleanup_line(line).lower().strip().split('\\t')\n",
    "            # for w in fields[1].split():\n",
    "            for w in word_tokenize(fields[1]):\n",
    "                if w.strip() in stop_words:\n",
    "                    continue\n",
    "                vocab.add(w.strip())\n",
    "                bag[stemmer.stem(w.strip())] += 1\n",
    "\n",
    "        # go back to the 1st example\n",
    "        fin.seek(1, 0)\n",
    "        for line in fin:\n",
    "            fields = cleanup_line(line).lower().strip().split('\\t')\n",
    "            X.append(vectorize_X(fields[1], vocab))\n",
    "            y.append(fields[2:])\n",
    "\n",
    "    return X, y, sorted(vocab), bag"
   ]
  },
  {
   "cell_type": "code",
   "execution_count": 5,
   "metadata": {},
   "outputs": [],
   "source": [
    "from sklearn.multiclass import OneVsRestClassifier\n",
    "from sklearn.svm import LinearSVC"
   ]
  },
  {
   "cell_type": "code",
   "execution_count": 6,
   "metadata": {},
   "outputs": [],
   "source": [
    "X, y, vocab, bow = create_bow('2018-E-c-En-dev.txt')\n",
    "v = vectorize_X(\"hypo hypo throw ahu\", vocab)\n",
    "\n",
    "#OneVsRestClassifier(LinearSVC(random_state=42)).fit(X, y).predict(X)"
   ]
  }
 ],
 "metadata": {
  "kernelspec": {
   "display_name": "Python 3",
   "language": "python",
   "name": "python3"
  },
  "language_info": {
   "codemirror_mode": {
    "name": "ipython",
    "version": 3
   },
   "file_extension": ".py",
   "mimetype": "text/x-python",
   "name": "python",
   "nbconvert_exporter": "python",
   "pygments_lexer": "ipython3",
   "version": "3.6.5"
  }
 },
 "nbformat": 4,
 "nbformat_minor": 2
}
