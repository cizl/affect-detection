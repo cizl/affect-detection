{
 "cells": [
  {
   "cell_type": "markdown",
   "metadata": {},
   "source": [
    "# Basic BoW model "
   ]
  },
  {
   "cell_type": "code",
   "execution_count": 1,
   "metadata": {},
   "outputs": [
    {
     "ename": "ModuleNotFoundError",
     "evalue": "No module named 'bpdb'",
     "output_type": "error",
     "traceback": [
      "\u001b[0;31m---------------------------------------------------------------------------\u001b[0m",
      "\u001b[0;31mModuleNotFoundError\u001b[0m                       Traceback (most recent call last)",
      "\u001b[0;32m<ipython-input-1-27d0e86cbeb4>\u001b[0m in \u001b[0;36m<module>\u001b[0;34m()\u001b[0m\n\u001b[1;32m      4\u001b[0m \u001b[0;32mfrom\u001b[0m \u001b[0mnltk\u001b[0m\u001b[0;34m.\u001b[0m\u001b[0mtokenize\u001b[0m \u001b[0;32mimport\u001b[0m \u001b[0mword_tokenize\u001b[0m\u001b[0;34m\u001b[0m\u001b[0m\n\u001b[1;32m      5\u001b[0m \u001b[0;32mimport\u001b[0m \u001b[0mre\u001b[0m\u001b[0;34m\u001b[0m\u001b[0m\n\u001b[0;32m----> 6\u001b[0;31m \u001b[0;32mfrom\u001b[0m \u001b[0mdata\u001b[0m \u001b[0;32mimport\u001b[0m \u001b[0mget_data\u001b[0m\u001b[0;34m\u001b[0m\u001b[0m\n\u001b[0m",
      "\u001b[0;32m~/workspace/gits/affect-detection/data.py\u001b[0m in \u001b[0;36m<module>\u001b[0;34m()\u001b[0m\n\u001b[1;32m      3\u001b[0m \u001b[0;32mimport\u001b[0m \u001b[0margparse\u001b[0m\u001b[0;34m\u001b[0m\u001b[0m\n\u001b[1;32m      4\u001b[0m \u001b[0;32mimport\u001b[0m \u001b[0mpickle\u001b[0m\u001b[0;34m\u001b[0m\u001b[0m\n\u001b[0;32m----> 5\u001b[0;31m \u001b[0;32mimport\u001b[0m \u001b[0mbpdb\u001b[0m\u001b[0;34m\u001b[0m\u001b[0m\n\u001b[0m\u001b[1;32m      6\u001b[0m \u001b[0;34m\u001b[0m\u001b[0m\n\u001b[1;32m      7\u001b[0m \u001b[0;32mimport\u001b[0m \u001b[0mnumpy\u001b[0m \u001b[0;32mas\u001b[0m \u001b[0mnp\u001b[0m\u001b[0;34m\u001b[0m\u001b[0m\n",
      "\u001b[0;31mModuleNotFoundError\u001b[0m: No module named 'bpdb'"
     ]
    }
   ],
   "source": [
    "from collections import defaultdict\n",
    "from nltk.stem import PorterStemmer, SnowballStemmer\n",
    "from nltk.corpus import stopwords\n",
    "from nltk.tokenize import word_tokenize\n",
    "import re\n",
    "from data import get_data"
   ]
  },
  {
   "cell_type": "code",
   "execution_count": null,
   "metadata": {},
   "outputs": [],
   "source": [
    "def cleanup(x):\n",
    "    # removes punctuation\n",
    "    x = re.sub(r'[.,\"!#/]+', ' ', x, flags=re.MULTILINE)\n",
    "    # removs \\\\n\n",
    "    x = re.sub(r'\\\\n', ' ', x, flags=re.MULTILINE)\n",
    "    # removes retweets (e.g. @FER)\n",
    "    x = re.sub(r'@\\w+', '', x, flags=re.MULTILINE)\n",
    "\n",
    "    return x"
   ]
  },
  {
   "cell_type": "code",
   "execution_count": null,
   "metadata": {},
   "outputs": [],
   "source": [
    "def vectorize_X(tweet, vocab):\n",
    "    # obsolete \n",
    "    # tweet = re.sub(r'[.,\"!#]+', ' ', tweet, flags=re.MULTILINE)\n",
    "    #tweet = re.sub(r'@\\w+', ' ', tweet, flags=re.MULTILINE)\n",
    "\n",
    "    # splits tags into 2, e.g. #happy -> #, happy\n",
    "    # TODO: tags could be useful for classification\n",
    "    tweet_toks = word_tokenize(tweet)\n",
    "    X_ = []\n",
    "    for w in vocab:\n",
    "        X_.append(1 if w in tweet_toks else 0)\n",
    "\n",
    "    return X_"
   ]
  },
  {
   "cell_type": "code",
   "execution_count": null,
   "metadata": {},
   "outputs": [],
   "source": [
    "def create_bow(input_file):\n",
    "    vocab = set()\n",
    "    X, y = [], []\n",
    "    stop_words = set(stopwords.words('english'))\n",
    "    tweets, labels = get_data(f'data/{input_file}')\n",
    "    stemmer = PorterStemmer()\n",
    "    #stemmer = SnowballStemmer()\n",
    "\n",
    "    bag = defaultdict(int)\n",
    "    for t in tweets:\n",
    "        for w in cleanup(t).split():\n",
    "            clean_tweets.append()\n",
    "            \n",
    "    clean_tweets = [ for t in tweets]\n",
    "    for t in clean_tweets:\n",
    "        for w in word_tokenize(t):\n",
    "            if w.strip() in stop_words:\n",
    "                continue\n",
    "            vocab.add(w.strip())\n",
    "            bag[stemmer.stem(w.strip())] += 1\n",
    "        \n",
    "    # go back to the 1st example\n",
    "    fin.seek(1, 0)\n",
    "    for t in clean_tweets:\n",
    "        X.append(vectorize_X(t, vocab))\n",
    "        y.append(fields[2:])\n",
    "\n",
    "    return X, y, sorted(vocab), bag"
   ]
  },
  {
   "cell_type": "code",
   "execution_count": null,
   "metadata": {},
   "outputs": [],
   "source": [
    "from sklearn.multiclass import OneVsRestClassifier\n",
    "from sklearn.svm import LinearSVC"
   ]
  },
  {
   "cell_type": "code",
   "execution_count": null,
   "metadata": {},
   "outputs": [],
   "source": [
    "X, y, vocab, bow = create_bow('2018-E-c-En-dev.txt')\n",
    "v = vectorize_X(\"hypo hypo throw ahu\", vocab)\n",
    "\n",
    "#OneVsRestClassifier(LinearSVC(random_state=42)).fit(X, y).predict(\"hypo hypo throw ahu\")"
   ]
  }
 ],
 "metadata": {
  "kernelspec": {
   "display_name": "Python 3",
   "language": "python",
   "name": "python3"
  },
  "language_info": {
   "codemirror_mode": {
    "name": "ipython",
    "version": 3
   },
   "file_extension": ".py",
   "mimetype": "text/x-python",
   "name": "python",
   "nbconvert_exporter": "python",
   "pygments_lexer": "ipython3",
   "version": "3.6.5"
  }
 },
 "nbformat": 4,
 "nbformat_minor": 2
}
