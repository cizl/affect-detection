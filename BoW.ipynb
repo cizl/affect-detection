{
 "cells": [
  {
   "cell_type": "markdown",
   "metadata": {},
   "source": [
    "# Basic BoW model "
   ]
  },
  {
   "cell_type": "code",
   "execution_count": 1,
   "metadata": {},
   "outputs": [
    {
     "name": "stdout",
     "output_type": "stream",
     "text": [
      "Populating the interactive namespace from numpy and matplotlib\n"
     ]
    }
   ],
   "source": [
    "from collections import defaultdict\n",
    "from nltk.stem import PorterStemmer, SnowballStemmer\n",
    "from nltk.corpus import stopwords\n",
    "from nltk.tokenize import word_tokenize\n",
    "import re\n",
    "from data import get_data\n",
    "%pylab inline"
   ]
  },
  {
   "cell_type": "code",
   "execution_count": 2,
   "metadata": {},
   "outputs": [],
   "source": [
    "def cleanup(x):\n",
    "    # removes punctuation\n",
    "    x = re.sub(r'[.,\"!#/]+', ' ', x, flags=re.MULTILINE)\n",
    "    # removs \\\\n\n",
    "    x = re.sub(r'\\\\n', ' ', x, flags=re.MULTILINE)\n",
    "    # removes retweets (e.g. @FER)\n",
    "    x = re.sub(r'@\\w+', '', x, flags=re.MULTILINE)\n",
    "\n",
    "    return x"
   ]
  },
  {
   "cell_type": "code",
   "execution_count": 3,
   "metadata": {},
   "outputs": [],
   "source": [
    "def vectorize_X(tweet, vocab):\n",
    "    # obsolete \n",
    "    # tweet = re.sub(r'[.,\"!#]+', ' ', tweet, flags=re.MULTILINE)\n",
    "    #tweet = re.sub(r'@\\w+', ' ', tweet, flags=re.MULTILINE)\n",
    "\n",
    "    # splits tags into 2, e.g. #happy -> #, happy\n",
    "    # TODO: tags could be useful for classification\n",
    "    tweet_toks = word_tokenize(tweet)\n",
    "    X_ = []\n",
    "    for w in vocab:\n",
    "        X_.append(1 if w in tweet_toks else 0)\n",
    "\n",
    "    return X_"
   ]
  },
  {
   "cell_type": "code",
   "execution_count": 4,
   "metadata": {},
   "outputs": [],
   "source": [
    "def create_vocab(tweets):\n",
    "    vocab = set()\n",
    "    stop_words = set(stopwords.words('english'))\n",
    "    stemmer = PorterStemmer()\n",
    "    #stemmer = SnowballStemmer()\n",
    "    \n",
    "    clean_tweets = [cleanup(t) for t in tweets]\n",
    "    \n",
    "    for t in clean_tweets:\n",
    "        for w in word_tokenize(t):\n",
    "            vocab.add(w.strip())\n",
    "    \n",
    "    vocab -= set(stop_words)\n",
    "        \n",
    "    return sorted(vocab)"
   ]
  },
  {
   "cell_type": "code",
   "execution_count": 5,
   "metadata": {},
   "outputs": [],
   "source": [
    "from sklearn.multiclass import OneVsRestClassifier\n",
    "from sklearn.svm import LinearSVC\n",
    "from sklearn.feature_extraction.text import CountVectorizer\n",
    "from sklearn.pipeline import Pipeline\n",
    "from sklearn.metrics import accuracy_score\n",
    "from sklearn.model_selection import train_test_split"
   ]
  },
  {
   "cell_type": "code",
   "execution_count": 6,
   "metadata": {},
   "outputs": [],
   "source": [
    "X_train, y_train = get_data('data/2018-E-c-En-train.txt')\n",
    "X_test, y_test = get_data('data/2018-E-c-En-dev.txt')\n",
    "\n",
    "X_train_clean = [cleanup(x) for x in X_train]\n",
    "X_test_clean = [cleanup(x) for x in X_test]\n",
    "\n",
    "#vocab = create_vocab(X)\n",
    "\n",
    "vectorizer = CountVectorizer(ngram_range=(1, 4), stop_words='english')#, vocabulary=vocab)\n",
    "clf = OneVsRestClassifier(LinearSVC(random_state=42))\n",
    "\n",
    "estimators = [('vectorize', vectorizer), ('clf', clf)]"
   ]
  },
  {
   "cell_type": "code",
   "execution_count": 7,
   "metadata": {},
   "outputs": [
    {
     "name": "stdout",
     "output_type": "stream",
     "text": [
      "0.17042889390519186\n"
     ]
    }
   ],
   "source": [
    "pipe = Pipeline(memory=None, steps=estimators).fit(X_train_clean, y_train)\n",
    "\n",
    "print(accuracy_score(y_test, pipe.predict(X_test_clean)))"
   ]
  }
 ],
 "metadata": {
  "kernelspec": {
   "display_name": "Python 3",
   "language": "python",
   "name": "python3"
  },
  "language_info": {
   "codemirror_mode": {
    "name": "ipython",
    "version": 3
   },
   "file_extension": ".py",
   "mimetype": "text/x-python",
   "name": "python",
   "nbconvert_exporter": "python",
   "pygments_lexer": "ipython3",
   "version": "3.6.5"
  }
 },
 "nbformat": 4,
 "nbformat_minor": 2
}
